{
 "cells": [
  {
   "cell_type": "markdown",
   "metadata": {
    "collapsed": true,
    "pycharm": {
     "name": "#%% md\n"
    }
   },
   "source": [
    "# Analyze Simplified Uno\n",
    "\n",
    "## Question: How many rounds does it take to finish the game?\n",
    "\n",
    "\n"
   ]
  },
  {
   "cell_type": "code",
   "execution_count": 8,
   "metadata": {
    "pycharm": {
     "is_executing": true,
     "name": "#%%\n"
    }
   },
   "outputs": [],
   "source": [
    "\n",
    "import sys\n",
    "sys.path.insert(0, \"/home/paszin/Documents/board-game-simulation/src/GameSimulation/\")\n",
    "\n",
    "from Games.Uno import Game, Player\n",
    "import numpy as np\n",
    "\n",
    "import time\n",
    "\n",
    "import random\n",
    "random.seed(1419265)\n",
    "\n",
    "import matplotlib.pyplot as plt\n"
   ]
  },
  {
   "cell_type": "markdown",
   "metadata": {},
   "source": [
    "# How many rounds does it take with n cards per player?"
   ]
  },
  {
   "cell_type": "code",
   "execution_count": 9,
   "metadata": {
    "pycharm": {
     "is_executing": true,
     "name": "#%%\n"
    }
   },
   "outputs": [
    {
     "name": "stdout",
     "output_type": "stream",
     "text": [
      "0\n",
      "1000\n",
      "2000\n",
      "3000\n"
     ]
    },
    {
     "ename": "EmptyStackError",
     "evalue": "no more cards",
     "output_type": "error",
     "traceback": [
      "\u001B[0;31m---------------------------------------------------------------------------\u001B[0m",
      "\u001B[0;31mIndexError\u001B[0m                                Traceback (most recent call last)",
      "\u001B[0;32m~/Documents/board-game-simulation/src/GameSimulation/Games/Base/CardStack.py\u001B[0m in \u001B[0;36mpop\u001B[0;34m(self)\u001B[0m\n\u001B[1;32m     63\u001B[0m         \u001B[0;32mtry\u001B[0m\u001B[0;34m:\u001B[0m\u001B[0;34m\u001B[0m\u001B[0;34m\u001B[0m\u001B[0m\n\u001B[0;32m---> 64\u001B[0;31m             \u001B[0;32mreturn\u001B[0m \u001B[0mself\u001B[0m\u001B[0;34m.\u001B[0m\u001B[0mcards\u001B[0m\u001B[0;34m.\u001B[0m\u001B[0mpop\u001B[0m\u001B[0;34m(\u001B[0m\u001B[0;34m-\u001B[0m\u001B[0;36m1\u001B[0m\u001B[0;34m)\u001B[0m\u001B[0;34m\u001B[0m\u001B[0;34m\u001B[0m\u001B[0m\n\u001B[0m\u001B[1;32m     65\u001B[0m         \u001B[0;32mexcept\u001B[0m \u001B[0mIndexError\u001B[0m\u001B[0;34m:\u001B[0m\u001B[0;34m\u001B[0m\u001B[0;34m\u001B[0m\u001B[0m\n",
      "\u001B[0;31mIndexError\u001B[0m: pop from empty list",
      "\nDuring handling of the above exception, another exception occurred:\n",
      "\u001B[0;31mEmptyStackError\u001B[0m                           Traceback (most recent call last)",
      "\u001B[0;32m<ipython-input-9-0e9f75a2a587>\u001B[0m in \u001B[0;36m<module>\u001B[0;34m\u001B[0m\n\u001B[1;32m     15\u001B[0m         \u001B[0mgame\u001B[0m \u001B[0;34m=\u001B[0m \u001B[0mGame\u001B[0m\u001B[0;34m(\u001B[0m\u001B[0mnumber_of_players\u001B[0m\u001B[0;34m=\u001B[0m\u001B[0mnumber_of_players\u001B[0m\u001B[0;34m,\u001B[0m \u001B[0mplayer_type\u001B[0m\u001B[0;34m=\u001B[0m\u001B[0mPlayer\u001B[0m\u001B[0;34m,\u001B[0m \u001B[0mcards_per_player\u001B[0m\u001B[0;34m=\u001B[0m\u001B[0mcards_per_player\u001B[0m\u001B[0;34m)\u001B[0m\u001B[0;34m\u001B[0m\u001B[0;34m\u001B[0m\u001B[0m\n\u001B[1;32m     16\u001B[0m         \u001B[0mgame\u001B[0m\u001B[0;34m.\u001B[0m\u001B[0msetup\u001B[0m\u001B[0;34m(\u001B[0m\u001B[0;34m)\u001B[0m\u001B[0;34m\u001B[0m\u001B[0;34m\u001B[0m\u001B[0m\n\u001B[0;32m---> 17\u001B[0;31m         \u001B[0mgame\u001B[0m\u001B[0;34m.\u001B[0m\u001B[0msimulate\u001B[0m\u001B[0;34m(\u001B[0m\u001B[0mquiet\u001B[0m\u001B[0;34m=\u001B[0m\u001B[0;32mTrue\u001B[0m\u001B[0;34m,\u001B[0m \u001B[0mturns\u001B[0m\u001B[0;34m=\u001B[0m\u001B[0;36m200\u001B[0m\u001B[0;34m)\u001B[0m\u001B[0;34m\u001B[0m\u001B[0;34m\u001B[0m\u001B[0m\n\u001B[0m\u001B[1;32m     18\u001B[0m         \u001B[0mturns_per_cards\u001B[0m\u001B[0;34m[\u001B[0m\u001B[0mcards_per_player\u001B[0m\u001B[0;34m]\u001B[0m\u001B[0;34m.\u001B[0m\u001B[0mappend\u001B[0m\u001B[0;34m(\u001B[0m\u001B[0mgame\u001B[0m\u001B[0;34m.\u001B[0m\u001B[0mturn\u001B[0m\u001B[0;34m)\u001B[0m\u001B[0;34m\u001B[0m\u001B[0;34m\u001B[0m\u001B[0m\n\u001B[1;32m     19\u001B[0m \u001B[0;34m\u001B[0m\u001B[0m\n",
      "\u001B[0;32m~/Documents/board-game-simulation/src/GameSimulation/Games/Base/Game.py\u001B[0m in \u001B[0;36msimulate\u001B[0;34m(self, quiet, turns)\u001B[0m\n\u001B[1;32m     56\u001B[0m             \u001B[0mself\u001B[0m\u001B[0;34m.\u001B[0m\u001B[0mturn\u001B[0m \u001B[0;34m+=\u001B[0m \u001B[0;36m1\u001B[0m\u001B[0;34m\u001B[0m\u001B[0;34m\u001B[0m\u001B[0m\n\u001B[1;32m     57\u001B[0m             \u001B[0;32mtry\u001B[0m\u001B[0;34m:\u001B[0m\u001B[0;34m\u001B[0m\u001B[0;34m\u001B[0m\u001B[0m\n\u001B[0;32m---> 58\u001B[0;31m                 \u001B[0mself\u001B[0m\u001B[0;34m.\u001B[0m\u001B[0mgamestate\u001B[0m\u001B[0;34m,\u001B[0m \u001B[0mchoice\u001B[0m \u001B[0;34m=\u001B[0m \u001B[0mcurrent_player\u001B[0m\u001B[0;34m.\u001B[0m\u001B[0mplay\u001B[0m\u001B[0;34m(\u001B[0m\u001B[0mself\u001B[0m\u001B[0;34m.\u001B[0m\u001B[0mgamestate\u001B[0m\u001B[0;34m)\u001B[0m\u001B[0;34m\u001B[0m\u001B[0;34m\u001B[0m\u001B[0m\n\u001B[0m\u001B[1;32m     59\u001B[0m             \u001B[0;32mexcept\u001B[0m \u001B[0mRuntimeError\u001B[0m \u001B[0;32mas\u001B[0m \u001B[0merr\u001B[0m\u001B[0;34m:\u001B[0m\u001B[0;34m\u001B[0m\u001B[0;34m\u001B[0m\u001B[0m\n\u001B[1;32m     60\u001B[0m                 \u001B[0mself\u001B[0m\u001B[0;34m.\u001B[0m\u001B[0mgamestate_history\u001B[0m\u001B[0;34m.\u001B[0m\u001B[0mappend\u001B[0m\u001B[0;34m(\u001B[0m\u001B[0mself\u001B[0m\u001B[0;34m.\u001B[0m\u001B[0mgamestate\u001B[0m\u001B[0;34m)\u001B[0m\u001B[0;34m\u001B[0m\u001B[0;34m\u001B[0m\u001B[0m\n",
      "\u001B[0;32m~/Documents/board-game-simulation/src/GameSimulation/Games/Uno/Player.py\u001B[0m in \u001B[0;36mplay\u001B[0;34m(self, game)\u001B[0m\n\u001B[1;32m     39\u001B[0m             \u001B[0;32melif\u001B[0m \u001B[0mgame\u001B[0m\u001B[0;34m.\u001B[0m\u001B[0mstack\u001B[0m\u001B[0;34m.\u001B[0m\u001B[0mlast_card\u001B[0m\u001B[0;34m.\u001B[0m\u001B[0mnumber\u001B[0m \u001B[0;34m==\u001B[0m \u001B[0;34m\"+4\"\u001B[0m\u001B[0;34m:\u001B[0m\u001B[0;34m\u001B[0m\u001B[0;34m\u001B[0m\u001B[0m\n\u001B[1;32m     40\u001B[0m                 \u001B[0;32mfor\u001B[0m \u001B[0m_\u001B[0m \u001B[0;32min\u001B[0m \u001B[0mrange\u001B[0m\u001B[0;34m(\u001B[0m\u001B[0;36m4\u001B[0m\u001B[0;34m)\u001B[0m\u001B[0;34m:\u001B[0m\u001B[0;34m\u001B[0m\u001B[0;34m\u001B[0m\u001B[0m\n\u001B[0;32m---> 41\u001B[0;31m                     \u001B[0mself\u001B[0m\u001B[0;34m.\u001B[0m\u001B[0mreceive\u001B[0m\u001B[0;34m(\u001B[0m\u001B[0mgame\u001B[0m\u001B[0;34m.\u001B[0m\u001B[0mdraw_pile\u001B[0m\u001B[0;34m.\u001B[0m\u001B[0mpop\u001B[0m\u001B[0;34m(\u001B[0m\u001B[0;34m)\u001B[0m\u001B[0;34m)\u001B[0m\u001B[0;34m\u001B[0m\u001B[0;34m\u001B[0m\u001B[0m\n\u001B[0m\u001B[1;32m     42\u001B[0m                 \u001B[0mgame\u001B[0m\u001B[0;34m.\u001B[0m\u001B[0mstack\u001B[0m\u001B[0;34m.\u001B[0m\u001B[0mlast_card\u001B[0m\u001B[0;34m.\u001B[0m\u001B[0mvalid\u001B[0m \u001B[0;34m=\u001B[0m \u001B[0;32mFalse\u001B[0m\u001B[0;34m\u001B[0m\u001B[0;34m\u001B[0m\u001B[0m\n\u001B[1;32m     43\u001B[0m                 \u001B[0;32mreturn\u001B[0m \u001B[0mgame\u001B[0m\u001B[0;34m,\u001B[0m \u001B[0;34m\"draw 4 cards\"\u001B[0m\u001B[0;34m\u001B[0m\u001B[0;34m\u001B[0m\u001B[0m\n",
      "\u001B[0;32m~/Documents/board-game-simulation/src/GameSimulation/Games/Base/CardStack.py\u001B[0m in \u001B[0;36mpop\u001B[0;34m(self)\u001B[0m\n\u001B[1;32m     64\u001B[0m             \u001B[0;32mreturn\u001B[0m \u001B[0mself\u001B[0m\u001B[0;34m.\u001B[0m\u001B[0mcards\u001B[0m\u001B[0;34m.\u001B[0m\u001B[0mpop\u001B[0m\u001B[0;34m(\u001B[0m\u001B[0;34m-\u001B[0m\u001B[0;36m1\u001B[0m\u001B[0;34m)\u001B[0m\u001B[0;34m\u001B[0m\u001B[0;34m\u001B[0m\u001B[0m\n\u001B[1;32m     65\u001B[0m         \u001B[0;32mexcept\u001B[0m \u001B[0mIndexError\u001B[0m\u001B[0;34m:\u001B[0m\u001B[0;34m\u001B[0m\u001B[0;34m\u001B[0m\u001B[0m\n\u001B[0;32m---> 66\u001B[0;31m             \u001B[0;32mraise\u001B[0m \u001B[0mEmptyStackError\u001B[0m\u001B[0;34m(\u001B[0m\u001B[0;34m\"no more cards\"\u001B[0m\u001B[0;34m)\u001B[0m\u001B[0;34m\u001B[0m\u001B[0;34m\u001B[0m\u001B[0m\n\u001B[0m\u001B[1;32m     67\u001B[0m \u001B[0;34m\u001B[0m\u001B[0m\n\u001B[1;32m     68\u001B[0m     \u001B[0;32mdef\u001B[0m \u001B[0mshuffle\u001B[0m\u001B[0;34m(\u001B[0m\u001B[0mself\u001B[0m\u001B[0;34m)\u001B[0m\u001B[0;34m:\u001B[0m\u001B[0;34m\u001B[0m\u001B[0;34m\u001B[0m\u001B[0m\n",
      "\u001B[0;31mEmptyStackError\u001B[0m: no more cards"
     ]
    }
   ],
   "source": [
    "start_time = time.time()\n",
    "\n",
    "\n",
    "number_of_players = 3\n",
    "cards_per_player = 6\n",
    "number_of_iterations = 5000\n",
    "\n",
    "\n",
    "turns_per_cards = {}\n",
    "for cards_per_player in range(3, 11, 2):\n",
    "    turns_per_cards[cards_per_player] = []\n",
    "    random.seed(1892)\n",
    "    for i in range(number_of_iterations):\n",
    "        if i % 1000 == 0: print(i)\n",
    "        game = Game(number_of_players=number_of_players, player_type=Player, cards_per_player=cards_per_player)\n",
    "        game.setup()\n",
    "        game.simulate(quiet=True, turns=200)\n",
    "        turns_per_cards[cards_per_player].append(game.turn)\n",
    "\n",
    "\n",
    "end_time= time.time()\n",
    "\n",
    "print(f\"{len(list(range(3, 11, 2))) * number_of_iterations} Simulations took {(end_time-start_time)//60}min {(end_time-start_time)%60}s\")"
   ]
  },
  {
   "cell_type": "code",
   "execution_count": 10,
   "metadata": {
    "pycharm": {
     "is_executing": true,
     "name": "#%%\n"
    }
   },
   "outputs": [
    {
     "name": "stdout",
     "output_type": "stream",
     "text": [
      "Cards per player: 3\n",
      "Maximum:  200\n",
      "Minimum: 7\n",
      "Mean: 29.643176020408163\n",
      "\n",
      "\n"
     ]
    },
    {
     "data": {
      "image/png": "[encoded data removed]",
      "text/plain": [
       "<Figure size 432x288 with 1 Axes>"
      ]
     },
     "metadata": {
      "needs_background": "light"
     },
     "output_type": "display_data"
    }
   ],
   "source": [
    "for cards_per_player, r in turns_per_cards.items():\n",
    "    print(\"Cards per player:\", cards_per_player)\n",
    "    print(\"Maximum: \", max(r))\n",
    "    print(\"Minimum:\", min(r))\n",
    "    print(\"Mean:\", np.mean(r))\n",
    "    print(\"\\n\")\n",
    "\n",
    "#plt.plot(sorted(rounds))\n",
    "#plt.show()\n",
    "\n",
    "for cards_per_player, r in turns_per_cards.items():\n",
    "    plt.plot(sorted(r), label=cards_per_player)\n",
    "plt.legend()\n",
    "plt.show()"
   ]
  },
  {
   "cell_type": "code",
   "execution_count": 11,
   "metadata": {
    "pycharm": {
     "is_executing": true,
     "name": "#%%\n"
    }
   },
   "outputs": [
    {
     "data": {
      "image/png": "[encoded data removed]",
      "text/plain": [
       "<Figure size 720x432 with 1 Axes>"
      ]
     },
     "metadata": {
      "needs_background": "light"
     },
     "output_type": "display_data"
    }
   ],
   "source": [
    "\n",
    "modified_turns_per_cards = {}\n",
    "threshold = 80\n",
    "for number_of_cards, turns in turns_per_cards.items():\n",
    "    modified_turns_per_cards[number_of_cards] = list(map(lambda t: t if t < threshold else threshold + 1, turns))\n",
    "\n",
    "\n",
    "borders = list(range(10, threshold + 11, 10))\n",
    "plt.rcParams[\"figure.figsize\"] = (10, 6) # (w, h)\n",
    "\n",
    "plt.hist(np.transpose(list(modified_turns_per_cards.values())),\n",
    "         bins=borders,\n",
    "         label=list(map(lambda x: f\"{x} Cards\", modified_turns_per_cards.keys()))\n",
    "         )\n",
    "plt.xticks(borders, labels=[b if b <= threshold else \"150\" for b in borders])\n",
    "plt.yticks(range(0, 2501, 500), labels=list(map(lambda y: f\"{round(y / number_of_iterations * 100)}%\", range(0, 2501, 500))))\n",
    "\n",
    "plt.legend()\n",
    "plt.title(\"Distribution of number of turns for 3 players (5000 Iterations)\")\n",
    "\n",
    "#plt.hlines([500], min(borders), max(borders), linestyles=\"dotted\", linewidth=1)\n",
    "plt.show()\n"
   ]
  },
  {
   "cell_type": "code",
   "execution_count": null,
   "metadata": {
    "pycharm": {
     "is_executing": true,
     "name": "#%%\n"
    }
   },
   "outputs": [],
   "source": []
  },
  {
   "cell_type": "markdown",
   "metadata": {},
   "source": [
    "# How many rounds does it take with n player?"
   ]
  },
  {
   "cell_type": "code",
   "execution_count": null,
   "metadata": {
    "pycharm": {
     "is_executing": true,
     "name": "#%%\n"
    }
   },
   "outputs": [],
   "source": [
    "start_time = time.time()\n",
    "\n",
    "number_of_players = 3\n",
    "cards_per_player = 7\n",
    "number_of_iterations = 5000\n",
    "turns_with_number_of_players = {}\n",
    "for number_of_players in range(2, 7):\n",
    "    turns_with_number_of_players[number_of_players] = []\n",
    "    random.seed(1892)\n",
    "    for _ in range(number_of_iterations):\n",
    "        game = Game(number_of_players=number_of_players, player_type=Player, cards_per_player=cards_per_player)\n",
    "        game.setup()\n",
    "        game.simulate(quiet=True)\n",
    "        turns_with_number_of_players[number_of_players].append(game.turn)\n",
    "\n",
    "end_time= time.time()\n",
    "\n",
    "print(f\"{5 * number_of_iterations} Simulations took {(end_time-start_time)//60}min {(end_time-start_time)%60}s\")"
   ]
  },
  {
   "cell_type": "code",
   "execution_count": null,
   "metadata": {
    "pycharm": {
     "is_executing": true,
     "name": "#%%\n"
    }
   },
   "outputs": [],
   "source": [
    "\n",
    "modified_turns_with_number_of_players = {}\n",
    "threshold = 80\n",
    "for number_of_players, turns in turns_with_number_of_players.items():\n",
    "    modified_turns_with_number_of_players[number_of_players] = list(map(lambda t: t if t < threshold else threshold + 1, turns))\n",
    "\n",
    "\n",
    "borders = list(range(10, threshold + 11, 10))\n",
    "plt.rcParams[\"figure.figsize\"] = (10, 6) # (w, h)\n",
    "\n",
    "plt.hist(np.transpose(list(modified_turns_with_number_of_players.values())),\n",
    "         bins=borders,\n",
    "         label=list(map(lambda x: f\"{x} Players\", modified_turns_with_number_of_players.keys()))\n",
    "         )\n",
    "plt.xticks(borders, labels=[b if b <= threshold else \"150\" for b in borders])\n",
    "plt.yticks(range(0, 2501, 500), labels=list(map(lambda y: f\"{round(y / number_of_iterations * 100)}%\", range(0, 2501, 500))))\n",
    "\n",
    "plt.legend()\n",
    "plt.title(\"Distribution of number of turns with 7 cards (5000 Iterations)\")\n",
    "#plt.gca().yaxis.set_major_formatter(PercentFormatter(0))\n",
    "\n",
    "#plt.hlines([500], min(borders), max(borders), linestyles=\"dotted\", linewidth=1)\n",
    "plt.show()"
   ]
  },
  {
   "cell_type": "code",
   "execution_count": null,
   "metadata": {
    "pycharm": {
     "is_executing": true,
     "name": "#%%\n"
    }
   },
   "outputs": [],
   "source": [
    "# Normalize with number of players\n",
    "\n",
    "borders = [0, 10, 20, 30, 40, 50]\n",
    "\n",
    "normalized_turns_with_number_of_players = {}\n",
    "for number_of_players, turns in turns_with_number_of_players.items():\n",
    "    normalized_turns_with_number_of_players[number_of_players] = list(map(lambda t: t/number_of_players, turns))\n",
    "\n",
    "\n",
    "plt.hist(np.transpose(list(normalized_turns_with_number_of_players.values())), bins=borders, label=list(map(lambda x: f\"{x} Players\", normalized_turns_with_number_of_players.keys())))\n",
    "plt.xticks(borders)\n",
    "plt.yticks(range(0, 3501, 500), labels=list(map(lambda y: f\"{round(y / number_of_iterations * 100)}%\", range(0, 3501, 500))))\n",
    "plt.legend()\n",
    "plt.title(\"Distribution of number of rounds with 7 cards (5000 Iterations)\")\n",
    "plt.show()\n",
    "\n"
   ]
  },
  {
   "cell_type": "code",
   "execution_count": null,
   "metadata": {
    "pycharm": {
     "is_executing": true,
     "name": "#%%\n"
    }
   },
   "outputs": [],
   "source": [
    "stds = []\n",
    "for i in range(100, 8001, 100):\n",
    "    stds.append(np.std(rounds[3][:i]))\n",
    "    print(i, np.std(rounds[3][:i]))"
   ]
  },
  {
   "cell_type": "code",
   "execution_count": null,
   "metadata": {
    "pycharm": {
     "is_executing": true,
     "name": "#%%\n"
    }
   },
   "outputs": [],
   "source": [
    "plt.plot(stds)\n",
    "plt.plot()"
   ]
  },
  {
   "cell_type": "markdown",
   "metadata": {
    "pycharm": {
     "is_executing": true,
     "name": "#%%\n"
    }
   },
   "source": [
    "\n",
    "\n",
    "# What a crazy game?\n",
    "\n",
    "Analyze the longest game\n",
    "\n",
    "\n"
   ]
  },
  {
   "cell_type": "code",
   "execution_count": null,
   "metadata": {
    "pycharm": {
     "is_executing": true
    }
   },
   "outputs": [],
   "source": [
    "normalized_turns_with_number_of_players[2].index(max(normalized_turns_with_number_of_players[2]))"
   ]
  },
  {
   "cell_type": "code",
   "execution_count": null,
   "metadata": {
    "pycharm": {
     "is_executing": true
    }
   },
   "outputs": [],
   "source": [
    "number_of_rounds = max(normalized_turns_with_number_of_players[2])\n",
    "print(f\"Longest game with 2 players needs {number_of_rounds} rounds\")"
   ]
  },
  {
   "cell_type": "code",
   "execution_count": null,
   "metadata": {
    "pycharm": {
     "is_executing": true
    }
   },
   "outputs": [],
   "source": [
    "# get the gamestate\n",
    "\n",
    "\n",
    "number_of_players = 2\n",
    "cards_per_player = 7\n",
    "number_of_iterations = 5000\n",
    "\n",
    "gamestates = []\n",
    "\n",
    "random.seed(1892)\n",
    "for _ in range(number_of_iterations):\n",
    "    game = Game(number_of_players=number_of_players, player_type=Player, cards_per_player=cards_per_player)\n",
    "    game.setup()\n",
    "    game.simulate(quiet=True)\n",
    "    gamestates.append(game.gamestate_history)\n"
   ]
  },
  {
   "cell_type": "code",
   "execution_count": null,
   "metadata": {
    "pycharm": {
     "is_executing": true
    }
   },
   "outputs": [],
   "source": [
    "longest_run = max(gamestates, key=len)"
   ]
  },
  {
   "cell_type": "code",
   "execution_count": null,
   "metadata": {
    "pycharm": {
     "is_executing": true
    }
   },
   "outputs": [],
   "source": [
    "len(longest_run)"
   ]
  },
  {
   "cell_type": "code",
   "execution_count": null,
   "metadata": {
    "pycharm": {
     "is_executing": true
    }
   },
   "outputs": [],
   "source": [
    "draw_pile_cards = []\n",
    "stack_cards = []\n",
    "for state in longest_run:\n",
    "    draw_pile_cards.append(len(state.draw_pile))\n",
    "    stack_cards.append(len(state.stack))"
   ]
  },
  {
   "cell_type": "code",
   "execution_count": null,
   "metadata": {
    "pycharm": {
     "is_executing": true
    }
   },
   "outputs": [],
   "source": [
    "plt.plot(stack_cards)"
   ]
  },
  {
   "cell_type": "code",
   "execution_count": null,
   "metadata": {
    "pycharm": {
     "is_executing": true
    }
   },
   "outputs": [],
   "source": []
  }
 ],
 "metadata": {
  "kernelspec": {
   "display_name": "Python 3",
   "language": "python",
   "name": "python3"
  },
  "language_info": {
   "codemirror_mode": {
    "name": "ipython",
    "version": 3
   },
   "file_extension": ".py",
   "mimetype": "text/x-python",
   "name": "python",
   "nbconvert_exporter": "python",
   "pygments_lexer": "ipython3",
   "version": "3.7.3"
  }
 },
 "nbformat": 4,
 "nbformat_minor": 1
}
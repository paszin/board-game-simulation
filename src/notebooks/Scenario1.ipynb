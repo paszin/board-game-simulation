{
 "cells": [
  {
   "cell_type": "code",
   "execution_count": 1,
   "metadata": {},
   "outputs": [],
   "source": [
    "import os\n",
    "os.chdir(\"..\")\n",
    "\n",
    "import matplotlib.pyplot as plt\n",
    "\n",
    "import time\n",
    "import random\n",
    "random.seed(1993)\n",
    "try:\n",
    "\n",
    "    from ..GameSimulation import Card, CardStack, Player, GameState, Game\n",
    "    from ..GameSimulation.evaluation import rate_stack\n",
    "except:\n",
    "    from GameSimulation import Card, CardStack, Player, GameState, Game\n",
    "    from GameSimulation.evaluation import rate_stack\n"
   ]
  },
  {
   "cell_type": "code",
   "execution_count": 2,
   "outputs": [],
   "source": [
    "\n",
    "scores = []\n",
    "rates = []\n",
    "for i in range(1000):\n",
    "    game = Game(players_count=3, cards_per_player=6)\n",
    "    game.setup()\n",
    "    rates.append(rate_stack(game.gamestate.draw_pile))\n",
    "    game.play(quiet=True)\n",
    "    scores.append(game.score)\n"
   ],
   "metadata": {
    "collapsed": false,
    "pycharm": {
     "name": "#%%\n"
    }
   }
  },
  {
   "cell_type": "code",
   "execution_count": 12,
   "metadata": {
    "pycharm": {
     "name": "#%%\n"
    }
   },
   "outputs": [
    {
     "data": {
      "text/plain": "(array([ 1., 11.,  0., 19.,  0.,  6.,  0.,  9.,  0., 14., 12.,  0., 14.,\n         0.,  5.,  0.,  3.,  0.,  5.,  1.]),\n array([ 0.  ,  0.55,  1.1 ,  1.65,  2.2 ,  2.75,  3.3 ,  3.85,  4.4 ,\n         4.95,  5.5 ,  6.05,  6.6 ,  7.15,  7.7 ,  8.25,  8.8 ,  9.35,\n         9.9 , 10.45, 11.  ]),\n <a list of 20 Patch objects>)"
     },
     "execution_count": 12,
     "metadata": {},
     "output_type": "execute_result"
    },
    {
     "data": {
      "text/plain": "<Figure size 432x288 with 1 Axes>",
      "image/png": "[encoded data removed]"
     },
     "metadata": {
      "needs_background": "light"
     },
     "output_type": "display_data"
    }
   ],
   "source": [
    "plt.hist(scores, 20, facecolor='green', alpha=0.75)\n"
   ]
  },
  {
   "cell_type": "code",
   "execution_count": 7,
   "metadata": {
    "pycharm": {
     "name": "#%%\n"
    }
   },
   "outputs": [
    {
     "name": "stdout",
     "output_type": "stream",
     "text": [
      "Help on class Player in module GameSimulation.Player:\n",
      "\n",
      "class Player(builtins.object)\n",
      " |  Player(name=None)\n",
      " |  \n",
      " |  This is the representation of a human player.\n",
      " |  A player has a name, a hand and knowledge.\n",
      " |      name: Identifier of the instance\n",
      " |      hand: list of cards\n",
      " |      knowledge: tbd\n",
      " |  A player can perform actions. Actions are:\n",
      " |      play:\n",
      " |      finish_turn:\n",
      " |      ask:\n",
      " |      reply:\n",
      " |  \n",
      " |  Methods defined here:\n",
      " |  \n",
      " |  __init__(self, name=None)\n",
      " |      Initialize self.  See help(type(self)) for accurate signature.\n",
      " |  \n",
      " |  __repr__(self)\n",
      " |      Return repr(self).\n",
      " |  \n",
      " |  __str__(self)\n",
      " |      Return str(self).\n",
      " |  \n",
      " |  ask(self)\n",
      " |      :return:\n",
      " |  \n",
      " |  finish_turn(self, game)\n",
      " |      :return:\n",
      " |  \n",
      " |  play(self, game)\n",
      " |      :return:\n",
      " |  \n",
      " |  receive(self, card)\n",
      " |      :return:\n",
      " |  \n",
      " |  reply(self)\n",
      " |      :return:\n",
      " |  \n",
      " |  ----------------------------------------------------------------------\n",
      " |  Data descriptors defined here:\n",
      " |  \n",
      " |  __dict__\n",
      " |      dictionary for instance variables (if defined)\n",
      " |  \n",
      " |  __weakref__\n",
      " |      list of weak references to the object (if defined)\n",
      "\n"
     ]
    }
   ],
   "source": [
    "help(Player)"
   ]
  },
  {
   "cell_type": "code",
   "execution_count": 9,
   "outputs": [
    {
     "data": {
      "text/plain": "<matplotlib.collections.PathCollection at 0x7f881f281510>"
     },
     "execution_count": 9,
     "metadata": {},
     "output_type": "execute_result"
    },
    {
     "data": {
      "text/plain": "<Figure size 432x288 with 1 Axes>",
      "image/png": "[encoded data removed]"
     },
     "metadata": {
      "needs_background": "light"
     },
     "output_type": "display_data"
    }
   ],
   "source": [
    "zip(scores, rates)\n",
    "\n",
    "plt.scatter(x=scores, y=rates)"
   ],
   "metadata": {
    "collapsed": false,
    "pycharm": {
     "name": "#%%\n"
    }
   }
  },
  {
   "cell_type": "code",
   "execution_count": 8,
   "metadata": {
    "pycharm": {
     "name": "#%%\n"
    }
   },
   "outputs": [
    {
     "name": "stdout",
     "output_type": "stream",
     "text": [
      "Round 0\n",
      " 1: |23| |75| |22| |85| |17| |83|\n",
      "2: |88| |18| |47| |89| |84| |27|\n",
      "3: |53| |3| |15| |80| |50| |67| \n",
      " [1UP: |1| , 1UP: |1| , 100DOWN: |100| , 100DOWN: |100| ] \n",
      "\n",
      "Round 1 (Player 1)\n",
      "1: |23| |75| |22| |17| |62| |25|\n",
      "2: |88| |18| |47| |89| |84| |27|\n",
      "3: |53| |3| |15| |80| |50| |67|\n",
      "[1UP: |1| , 1UP: |1| , 100DOWN: |83| , 100DOWN: |100| ]\n",
      "Round 2 (Player 2)\n",
      "1: |23| |75| |22| |17| |62| |25|\n",
      "2: |18| |47| |84| |27| |36| |58|\n",
      "3: |53| |3| |15| |80| |50| |67|\n",
      "[1UP: |1| , 1UP: |1| , 100DOWN: |83| , 100DOWN: |88| ]\n",
      "Round 3 (Player 3)\n",
      "1: |23| |75| |22| |17| |62| |25|\n",
      "2: |18| |47| |84| |27| |36| |58|\n",
      "3: |53| |15| |50| |67| |46| |6|\n",
      "[1UP: |3| , 1UP: |1| , 100DOWN: |80| , 100DOWN: |88| ]\n",
      "Round 4 (Player 1)\n",
      "1: |23| |22| |17| |25| |61| |33|\n",
      "2: |18| |47| |84| |27| |36| |58|\n",
      "3: |53| |15| |50| |67| |46| |6|\n",
      "[1UP: |3| , 1UP: |1| , 100DOWN: |62| , 100DOWN: |88| ]\n",
      "Round 5 (Player 2)\n",
      "1: |23| |22| |17| |25| |61| |33|\n",
      "2: |18| |47| |27| |36| |91| |38|\n",
      "3: |53| |15| |50| |67| |46| |6|\n",
      "[1UP: |3| , 1UP: |1| , 100DOWN: |58| , 100DOWN: |84| ]\n",
      "Round 6 (Player 3)\n",
      "1: |23| |22| |17| |25| |61| |33|\n",
      "2: |18| |47| |27| |36| |91| |38|\n",
      "3: |15| |67| |46| |34| |94| |37|\n",
      "[1UP: |6| , 1UP: |1| , 100DOWN: |50| , 100DOWN: |84| ]\n",
      "Round 7 (Player 1)\n",
      "1: |61| |33| |11| |73| |68| |96|\n",
      "2: |18| |47| |27| |36| |91| |38|\n",
      "3: |15| |67| |46| |34| |94| |37|\n",
      "[1UP: |25| , 1UP: |1| , 100DOWN: |50| , 100DOWN: |84| ]\n",
      "Round 8 (Player 2)\n",
      "1: |61| |33| |11| |73| |68| |96|\n",
      "2: |18| |36| |91| |38| |39| |8|\n",
      "3: |15| |67| |46| |34| |94| |37|\n",
      "[1UP: |27| , 1UP: |1| , 100DOWN: |47| , 100DOWN: |84| ]\n",
      "Round 9 (Player 3)\n",
      "1: |61| |33| |11| |73| |68| |96|\n",
      "2: |18| |36| |91| |38| |39| |8|\n",
      "3: |15| |67| |94| |21| |64| |60|\n",
      "[1UP: |37| , 1UP: |1| , 100DOWN: |46| , 100DOWN: |84| ]\n",
      "Round 10 (Player 1)\n",
      "1: |61| |33| |68| |96| |72| |43|\n",
      "2: |18| |36| |91| |38| |39| |8|\n",
      "3: |15| |67| |94| |21| |64| |60|\n",
      "[1UP: |37| , 1UP: |11| , 100DOWN: |46| , 100DOWN: |73| ]\n",
      "Round 11 (Player 2)\n",
      "1: |61| |33| |68| |96| |72| |43|\n",
      "2: |18| |36| |91| |8| |49| |29|\n",
      "3: |15| |67| |94| |21| |64| |60|\n",
      "[1UP: |39| , 1UP: |11| , 100DOWN: |46| , 100DOWN: |73| ]\n",
      "Round 12 (Player 3)\n",
      "1: |61| |33| |68| |96| |72| |43|\n",
      "2: |18| |36| |91| |8| |49| |29|\n",
      "3: |67| |94| |64| |60| |66| |71|\n",
      "[1UP: |39| , 1UP: |21| , 100DOWN: |46| , 100DOWN: |73| ]\n",
      "Round 13 (Player 1)\n",
      "1: |61| |33| |68| |96| |28| |45|\n",
      "2: |18| |36| |91| |8| |49| |29|\n",
      "3: |67| |94| |64| |60| |66| |71|\n",
      "[1UP: |39| , 1UP: |21| , 100DOWN: |43| , 100DOWN: |72| ]\n",
      "Round 14 (Player 2)\n",
      "1: |61| |33| |68| |96| |28| |45|\n",
      "2: |18| |91| |8| |49| |82| |44|\n",
      "3: |67| |94| |64| |60| |66| |71|\n",
      "[1UP: |39| , 1UP: |21| , 100DOWN: |29| , 100DOWN: |72| ]\n",
      "Round 15 (Player 3)\n",
      "1: |61| |33| |68| |96| |28| |45|\n",
      "2: |18| |91| |8| |49| |82| |44|\n",
      "3: |94| |60| |32| |59| |98| |19|\n",
      "[1UP: |39| , 1UP: |21| , 100DOWN: |29| , 100DOWN: |64| ]\n",
      "Round 16 (Player 1)\n",
      "1: |33| |68| |96| |45| |16| |57|\n",
      "2: |18| |91| |8| |49| |82| |44|\n",
      "3: |94| |60| |32| |59| |98| |19|\n",
      "[1UP: |39| , 1UP: |21| , 100DOWN: |28| , 100DOWN: |61| ]\n",
      "Round 17 (Player 2)\n",
      "1: |33| |68| |96| |45| |16| |57|\n",
      "2: |18| |91| |8| |82| |7| |5|\n",
      "3: |94| |60| |32| |59| |98| |19|\n",
      "[1UP: |49| , 1UP: |21| , 100DOWN: |28| , 100DOWN: |61| ]\n",
      "Round 18 (Player 3)\n",
      "1: |33| |68| |96| |45| |16| |57|\n",
      "2: |18| |91| |8| |82| |7| |5|\n",
      "3: |94| |32| |98| |19| |95| |40|\n",
      "[1UP: |49| , 1UP: |21| , 100DOWN: |28| , 100DOWN: |59| ]\n",
      "Round 19 (Player 1)\n",
      "1: |68| |96| |45| |16| |31| |55|\n",
      "2: |18| |91| |8| |82| |7| |5|\n",
      "3: |94| |32| |98| |19| |95| |40|\n",
      "[1UP: |49| , 1UP: |33| , 100DOWN: |28| , 100DOWN: |57| ]\n",
      "Round 20 (Player 2)\n",
      "1: |68| |96| |45| |16| |31| |55|\n",
      "2: |91| |82| |24| |93| |86| |41|\n",
      "3: |94| |32| |98| |19| |95| |40|\n",
      "[1UP: |49| , 1UP: |33| , 100DOWN: |5| , 100DOWN: |57| ]\n",
      "Round 21 (Player 3)\n",
      "1: |68| |96| |45| |16| |31| |55|\n",
      "2: |91| |82| |24| |93| |86| |41|\n",
      "3: |94| |98| |19| |95| |52| |4|\n",
      "[1UP: |49| , 1UP: |40| , 100DOWN: |5| , 100DOWN: |32| ]\n",
      "Round 22 (Player 1)\n",
      "1: |68| |96| |16| |55| |35| |13|\n",
      "2: |91| |82| |24| |93| |86| |41|\n",
      "3: |94| |98| |19| |95| |52| |4|\n",
      "[1UP: |49| , 1UP: |45| , 100DOWN: |5| , 100DOWN: |31| ]\n",
      "Round 23 (Player 2)\n",
      "1: |68| |96| |16| |55| |35| |13|\n",
      "2: |91| |93| |86| |41| |9| |51|\n",
      "3: |94| |98| |19| |95| |52| |4|\n",
      "[1UP: |82| , 1UP: |45| , 100DOWN: |5| , 100DOWN: |24| ]\n",
      "Round 24 (Player 3)\n",
      "1: |68| |96| |16| |55| |35| |13|\n",
      "2: |91| |93| |86| |41| |9| |51|\n",
      "3: |94| |98| |95| |52| |26| |81|\n",
      "[1UP: |82| , 1UP: |45| , 100DOWN: |4| , 100DOWN: |19| ]\n",
      "Round 25 (Player 1)\n",
      "1: |68| |96| |55| |35| |30| |20|\n",
      "2: |91| |93| |86| |41| |9| |51|\n",
      "3: |94| |98| |95| |52| |26| |81|\n",
      "[1UP: |82| , 1UP: |45| , 100DOWN: |4| , 100DOWN: |13| ]\n",
      "Round 26 (Player 2)\n",
      "1: |68| |96| |55| |35| |30| |20|\n",
      "2: |91| |93| |41| |51| |99| |10|\n",
      "3: |94| |98| |95| |52| |26| |81|\n",
      "[1UP: |86| , 1UP: |45| , 100DOWN: |4| , 100DOWN: |9| ]\n",
      "Round 27 (Player 3)\n",
      "1: |68| |96| |55| |35| |30| |20|\n",
      "2: |91| |93| |41| |51| |99| |10|\n",
      "3: |26| |81| |77| |74| |76| |54|\n",
      "[1UP: |98| , 1UP: |52| , 100DOWN: |4| , 100DOWN: |9| ]\n",
      "Round 28 (Player 1)\n",
      "1: |96| |35| |30| |20| |79| |14|\n",
      "2: |91| |93| |41| |51| |99| |10|\n",
      "3: |26| |81| |77| |74| |76| |54|\n",
      "[1UP: |98| , 1UP: |68| , 100DOWN: |4| , 100DOWN: |9| ]\n",
      "Round 29 (Player 2)\n",
      "1: |96| |35| |30| |20| |79| |14|\n",
      "2: |41| |51| |10| |90| |97| |12|\n",
      "3: |26| |81| |77| |74| |76| |54|\n",
      "[1UP: |99| , 1UP: |93| , 100DOWN: |4| , 100DOWN: |9| ]\n",
      "We lost.\n",
      "Remaining Cards 29\n"
     ]
    }
   ],
   "source": [
    "game = Game(players_count=3, cards_per_player=6)\n",
    "game.setup()\n",
    "game.play(quiet=False)\n",
    "\n"
   ]
  },
  {
   "cell_type": "code",
   "execution_count": 2,
   "outputs": [],
   "source": [],
   "metadata": {
    "collapsed": false,
    "pycharm": {
     "name": "#%%\n"
    }
   }
  },
  {
   "cell_type": "code",
   "execution_count": 2,
   "outputs": [],
   "source": [
    "\n"
   ],
   "metadata": {
    "collapsed": false,
    "pycharm": {
     "name": "#%%\n"
    }
   }
  }
 ],
 "metadata": {
  "kernelspec": {
   "display_name": "Python 3",
   "language": "python",
   "name": "python3"
  },
  "language_info": {
   "codemirror_mode": {
    "name": "ipython",
    "version": 3
   },
   "file_extension": ".py",
   "mimetype": "text/x-python",
   "name": "python",
   "nbconvert_exporter": "python",
   "pygments_lexer": "ipython3",
   "version": "3.7.3"
  }
 },
 "nbformat": 4,
 "nbformat_minor": 1
}
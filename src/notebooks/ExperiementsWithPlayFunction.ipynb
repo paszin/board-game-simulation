{
 "cells": [
  {
   "cell_type": "code",
   "execution_count": 1,
   "metadata": {
    "collapsed": true
   },
   "outputs": [],
   "source": [
    "import random\n",
    "from GameSimulation import Card, CardStack, Player as BasePlayer, GameState\n"
   ]
  },
  {
   "cell_type": "code",
   "execution_count": 2,
   "outputs": [],
   "source": [
    "## overwrite players\n",
    "class Player(BasePlayer):\n",
    "\n",
    "    def play(self, game=None):\n",
    "        \"\"\"\n",
    "\n",
    "        :return:\n",
    "        \"\"\"\n",
    "        # find card with min distance to any stack\n",
    "        best_fit_per_stack = []\n",
    "        for i, stack in enumerate(game.card_stacks):\n",
    "            print(stack)\n",
    "            best_fit_per_stack[i] = min(filter(stack.accept, self.hand), key=lambda c: abs(stack.last_card - c))\n",
    "\n",
    "        best_fit_per_stack = list(filter(lambda x: x, best_fit_per_stack))\n",
    "        choice = random.choice(best_fit_per_stack)\n",
    "        self.hand.remove(choice)\n",
    "        return choice\n",
    "\n",
    "# help(Player)\n",
    "a_player = Player(\"Heinz\")"
   ],
   "metadata": {
    "collapsed": false,
    "pycharm": {
     "name": "#%%\n"
    }
   }
  },
  {
   "cell_type": "code",
   "execution_count": 3,
   "outputs": [],
   "source": [
    "# RULES\n",
    "\n",
    "def accept_counting_up(stack, card):\n",
    "    return stack.last_card < card or stack.last_card - 10 == card\n",
    "\n",
    "def accept_counting_down(stack, card):\n",
    "    return stack.last_card > card or stack.last_card + 10 == card"
   ],
   "metadata": {
    "collapsed": false,
    "pycharm": {
     "name": "#%%\n"
    }
   }
  },
  {
   "cell_type": "code",
   "execution_count": 4,
   "outputs": [],
   "source": [
    "# n Players\n",
    "players_count = 3\n",
    "players = [Player(i) for i in range(1, players_count + 1)]\n",
    "\n",
    "# there are 4 card stacks\n",
    "card_stacks = [CardStack() for _ in range(4)]\n",
    "\n",
    "card_stacks[0].name = \"1UP\"\n",
    "card_stacks[0].push(Card(number=1))\n",
    "card_stacks[0].set_acceptance_rule(accept_counting_up)\n",
    "\n",
    "card_stacks[1].name = \"1UP\"\n",
    "card_stacks[1].push(Card(number=1))\n",
    "card_stacks[1].set_acceptance_rule(accept_counting_up)\n",
    "\n",
    "card_stacks[2].name = \"100DOWN\"\n",
    "card_stacks[2].push(Card(number=100))\n",
    "card_stacks[2].set_acceptance_rule(accept_counting_down)\n",
    "\n",
    "card_stacks[3].name = \"100DOWN\"\n",
    "card_stacks[3].push(Card(number=100))\n",
    "card_stacks[3].set_acceptance_rule(accept_counting_down)\n"
   ],
   "metadata": {
    "collapsed": false,
    "pycharm": {
     "name": "#%%\n"
    }
   }
  },
  {
   "cell_type": "code",
   "execution_count": 5,
   "outputs": [
    {
     "name": "stdout",
     "output_type": "stream",
     "text": [
      "STACKS:\n",
      "[1UP: |1| , 1UP: |1| , 100DOWN: |100| , 100DOWN: |100| ]\n",
      "\n",
      "PLAYERS\n",
      "1: |53| |51| |37| |77| |14| |6|\n",
      "2: |42| |49| |44| |46| |87| |94|\n",
      "3: |45| |52| |69| |76| |8| |86|\n",
      "\n"
     ]
    }
   ],
   "source": [
    "# print game state\n",
    "print(\"STACKS:\")\n",
    "print(card_stacks)\n",
    "print()\n",
    "# 1. SETUP PHASE\n",
    "\n",
    "draw_pile = CardStack(\"Draw Pile\", [Card(number=i) for i in range(2, 100)])\n",
    "draw_pile.shuffle()\n",
    "\n",
    "# Every player gets n cards\n",
    "cards_per_player = 6\n",
    "for _ in range(cards_per_player):\n",
    "    for p in players:\n",
    "        p.receive(draw_pile.pop())\n",
    "\n",
    "print(\"PLAYERS\")\n",
    "print('\\n'.join(map(str, players)))\n",
    "print()\n"
   ],
   "metadata": {
    "collapsed": false,
    "pycharm": {
     "name": "#%%\n"
    }
   }
  },
  {
   "cell_type": "code",
   "execution_count": 6,
   "outputs": [],
   "source": [
    "# set this as gamestate\n",
    "gamestate = GameState(card_stacks=card_stacks, draw_pile=draw_pile)\n",
    "\n"
   ],
   "metadata": {
    "collapsed": false,
    "pycharm": {
     "name": "#%%\n"
    }
   }
  },
  {
   "cell_type": "code",
   "execution_count": 7,
   "outputs": [
    {
     "data": {
      "text/plain": "[1UP: |1| , 1UP: |1| , 100DOWN: |100| , 100DOWN: |100| ]"
     },
     "execution_count": 7,
     "metadata": {},
     "output_type": "execute_result"
    }
   ],
   "source": [
    "card_stacks\n",
    "# players[0].play(gamestate)"
   ],
   "metadata": {
    "collapsed": false,
    "pycharm": {
     "name": "#%%\n"
    }
   }
  },
  {
   "cell_type": "code",
   "execution_count": 12,
   "outputs": [
    {
     "data": {
      "text/plain": "[|53|, |51|, |37|, |77|, |14|, |6|]"
     },
     "execution_count": 12,
     "metadata": {},
     "output_type": "execute_result"
    }
   ],
   "source": [
    "card_stacks\n",
    "players[0].hand"
   ],
   "metadata": {
    "collapsed": false,
    "pycharm": {
     "name": "#%%\n"
    }
   }
  },
  {
   "cell_type": "code",
   "execution_count": 19,
   "outputs": [
    {
     "name": "stdout",
     "output_type": "stream",
     "text": [
      "100DOWN: |100| \n",
      "1: |53| |51| |37| |77| |14| |6|\n"
     ]
    },
    {
     "data": {
      "text/plain": "|77|"
     },
     "execution_count": 19,
     "metadata": {},
     "output_type": "execute_result"
    }
   ],
   "source": [
    "stack = card_stacks[3]\n",
    "print(stack)\n",
    "print(players[0])\n",
    "min(filter(stack.accept, players[0].hand), key=lambda c: abs(stack.last_card - c))"
   ],
   "metadata": {
    "collapsed": false,
    "pycharm": {
     "name": "#%%\n"
    }
   }
  },
  {
   "cell_type": "code",
   "execution_count": 10,
   "outputs": [
    {
     "data": {
      "text/plain": "|-2|"
     },
     "execution_count": 10,
     "metadata": {},
     "output_type": "execute_result"
    }
   ],
   "source": [
    "stack.last_card - Card(number=3)"
   ],
   "metadata": {
    "collapsed": false,
    "pycharm": {
     "name": "#%%\n"
    }
   }
  },
  {
   "cell_type": "code",
   "execution_count": 16,
   "outputs": [
    {
     "data": {
      "text/plain": "1"
     },
     "execution_count": 16,
     "metadata": {},
     "output_type": "execute_result"
    }
   ],
   "source": [
    "gs = GameState(a=1)\n",
    "gs.a"
   ],
   "metadata": {
    "collapsed": false,
    "pycharm": {
     "name": "#%%\n"
    }
   }
  },
  {
   "cell_type": "code",
   "execution_count": 20,
   "outputs": [
    {
     "data": {
      "text/plain": "(1, 2, 3)"
     },
     "execution_count": 20,
     "metadata": {},
     "output_type": "execute_result"
    }
   ],
   "source": [
    "(1, *(2, 3))"
   ],
   "metadata": {
    "collapsed": false,
    "pycharm": {
     "name": "#%%\n"
    }
   }
  },
  {
   "cell_type": "code",
   "execution_count": 2,
   "outputs": [
    {
     "data": {
      "text/plain": "{0: [], 1: [], 2: [], 3: []}"
     },
     "execution_count": 2,
     "metadata": {},
     "output_type": "execute_result"
    }
   ],
   "source": [
    "\n",
    "\n",
    "dict.fromkeys(range(4), [])"
   ],
   "metadata": {
    "collapsed": false,
    "pycharm": {
     "name": "#%%\n"
    }
   }
  },
  {
   "cell_type": "code",
   "execution_count": 3,
   "outputs": [
    {
     "data": {
      "text/plain": "5"
     },
     "execution_count": 3,
     "metadata": {},
     "output_type": "execute_result"
    }
   ],
   "source": [
    "min([3, 2, 5], key=lambda x: -x)"
   ],
   "metadata": {
    "collapsed": false,
    "pycharm": {
     "name": "#%%\n"
    }
   }
  },
  {
   "cell_type": "code",
   "execution_count": null,
   "outputs": [],
   "source": [
    "\n"
   ],
   "metadata": {
    "collapsed": false,
    "pycharm": {
     "name": "#%%\n"
    }
   }
  }
 ],
 "metadata": {
  "kernelspec": {
   "display_name": "Python 3",
   "language": "python",
   "name": "python3"
  },
  "language_info": {
   "codemirror_mode": {
    "name": "ipython",
    "version": 2
   },
   "file_extension": ".py",
   "mimetype": "text/x-python",
   "name": "python",
   "nbconvert_exporter": "python",
   "pygments_lexer": "ipython2",
   "version": "2.7.6"
  }
 },
 "nbformat": 4,
 "nbformat_minor": 0
}
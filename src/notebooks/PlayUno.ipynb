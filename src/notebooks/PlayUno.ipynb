{
 "cells": [
  {
   "cell_type": "code",
   "execution_count": 1,
   "metadata": {
    "pycharm": {
     "name": "#%%\n"
    }
   },
   "outputs": [],
   "source": [
    "import sys\n",
    "sys.path.insert(0, \"/home/paszin/Documents/board-game-simulation/src/GameSimulation/\")\n",
    "\n",
    "from Games.Uno import Game, Player\n",
    "\n",
    "import random\n",
    "random.seed(1)"
   ]
  },
  {
   "cell_type": "code",
   "execution_count": 7,
   "metadata": {},
   "outputs": [
    {
     "name": "stdout",
     "output_type": "stream",
     "text": [
      "Round 0\n",
      " 1: |red1| |yellow2| |rainbow0| |greenskip| |yellow4|\n",
      "2: |blue3| |red9| |red+2| |yellow9| |green0|\n",
      "3: |rainbow+4| |red2| |yellow6| |green9| |rainbow0|\n",
      " Stack: |green6| \n",
      "Player 1: play a card\n",
      "\n",
      "Round 1\n",
      " 1: |red1| |yellow2| |rainbow0| |yellow4|\n",
      "2: |blue3| |red9| |red+2| |yellow9| |green0|\n",
      "3: |rainbow+4| |red2| |yellow6| |green9| |rainbow0|\n",
      " Stack: |greenskip| \n",
      "Player 2: pause\n",
      "\n",
      "Round 2\n",
      " 1: |red1| |yellow2| |rainbow0| |yellow4|\n",
      "2: |blue3| |red9| |red+2| |yellow9| |green0|\n",
      "3: |rainbow+4| |red2| |yellow6| |green9| |rainbow0|\n",
      " Stack: |greenskip| \n",
      "Player 3: play a card\n",
      "\n",
      "Round 3\n",
      " 1: |red1| |yellow2| |rainbow0| |yellow4|\n",
      "2: |blue3| |red9| |red+2| |yellow9| |green0|\n",
      "3: |rainbow+4| |red2| |yellow6| |rainbow0|\n",
      " Stack: |green9| \n",
      "Player 1: play a card\n",
      "\n",
      "Round 4\n",
      " 1: |red1| |yellow2| |yellow4|\n",
      "2: |blue3| |red9| |red+2| |yellow9| |green0|\n",
      "3: |rainbow+4| |red2| |yellow6| |rainbow0|\n",
      " Stack: |yellow0| \n",
      "Player 2: play a card\n",
      "\n",
      "Round 5\n",
      " 1: |red1| |yellow2| |yellow4|\n",
      "2: |blue3| |red9| |red+2| |green0|\n",
      "3: |rainbow+4| |red2| |yellow6| |rainbow0|\n",
      " Stack: |yellow9| \n",
      "Player 3: play a card\n",
      "\n",
      "Round 6\n",
      " 1: |red1| |yellow2| |yellow4|\n",
      "2: |blue3| |red9| |red+2| |green0|\n",
      "3: |rainbow+4| |red2| |rainbow0|\n",
      " Stack: |yellow6| \n",
      "Player 1: play a card\n",
      "\n",
      "Round 7\n",
      " 1: |red1| |yellow4|\n",
      "2: |blue3| |red9| |red+2| |green0|\n",
      "3: |rainbow+4| |red2| |rainbow0|\n",
      " Stack: |yellow2| \n",
      "Player 2: draw a card\n",
      "\n",
      "Round 8\n",
      " 1: |red1| |yellow4|\n",
      "2: |blue3| |red9| |red+2| |green0| |yellow+2|\n",
      "3: |rainbow+4| |red2| |rainbow0|\n",
      " Stack: |yellow2| \n",
      "Player 3: play a card\n",
      "\n",
      "Round 9\n",
      " 1: |red1| |yellow4|\n",
      "2: |blue3| |red9| |red+2| |green0| |yellow+2|\n",
      "3: |rainbow+4| |rainbow0|\n",
      " Stack: |red2| \n",
      "Player 1: play a card\n",
      "\n",
      "Round 10\n",
      " 1: |yellow4|\n",
      "2: |blue3| |red9| |red+2| |green0| |yellow+2|\n",
      "3: |rainbow+4| |rainbow0|\n",
      " Stack: |red1| \n",
      "Player 2: play a card\n",
      "\n",
      "Round 11\n",
      " 1: |yellow4|\n",
      "2: |blue3| |red+2| |green0| |yellow+2|\n",
      "3: |rainbow+4| |rainbow0|\n",
      " Stack: |red9| \n",
      "Player 3: play a card\n",
      "\n",
      "Round 12\n",
      " 1: |yellow4|\n",
      "2: |blue3| |red+2| |green0| |yellow+2|\n",
      "3: |rainbow0|\n",
      " Stack: |red+4| \n",
      "Player 1: draw 4 cards\n",
      "\n",
      "Round 13\n",
      " 1: |yellow4| |greenskip| |green8| |yellowskip| |red2|\n",
      "2: |blue3| |red+2| |green0| |yellow+2|\n",
      "3: |rainbow0|\n",
      " Stack: |red+4| \n",
      "Player 2: play a card\n",
      "\n",
      "Round 14\n",
      " 1: |yellow4| |greenskip| |green8| |yellowskip| |red2|\n",
      "2: |blue3| |green0| |yellow+2|\n",
      "3: |rainbow0|\n",
      " Stack: |red+2| \n",
      "Player 3: draw cards\n",
      "\n",
      "Round 15\n",
      " 1: |yellow4| |greenskip| |green8| |yellowskip| |red2|\n",
      "2: |blue3| |green0| |yellow+2|\n",
      "3: |rainbow0| |rainbow0| |green2|\n",
      " Stack: |red+2| \n",
      "Player 1: play a card\n",
      "\n",
      "Round 16\n",
      " 1: |yellow4| |greenskip| |green8| |yellowskip|\n",
      "2: |blue3| |green0| |yellow+2|\n",
      "3: |rainbow0| |rainbow0| |green2|\n",
      " Stack: |red2| \n",
      "Player 2: draw a card\n",
      "\n",
      "Round 17\n",
      " 1: |yellow4| |greenskip| |green8| |yellowskip|\n",
      "2: |blue3| |green0| |yellow+2| |blue9|\n",
      "3: |rainbow0| |rainbow0| |green2|\n",
      " Stack: |red2| \n",
      "Player 3: play a card\n",
      "\n",
      "Round 18\n",
      " 1: |yellow4| |greenskip| |green8| |yellowskip|\n",
      "2: |blue3| |green0| |yellow+2| |blue9|\n",
      "3: |rainbow0| |rainbow0|\n",
      " Stack: |green2| \n",
      "Player 1: play a card\n",
      "\n",
      "Round 19\n",
      " 1: |yellow4| |green8| |yellowskip|\n",
      "2: |blue3| |green0| |yellow+2| |blue9|\n",
      "3: |rainbow0| |rainbow0|\n",
      " Stack: |greenskip| \n",
      "Player 2: pause\n",
      "\n",
      "Round 20\n",
      " 1: |yellow4| |green8| |yellowskip|\n",
      "2: |blue3| |green0| |yellow+2| |blue9|\n",
      "3: |rainbow0| |rainbow0|\n",
      " Stack: |greenskip| \n",
      "Player 3: play a card\n",
      "\n",
      "Round 21\n",
      " 1: |yellow4| |green8| |yellowskip|\n",
      "2: |blue3| |green0| |yellow+2| |blue9|\n",
      "3: |rainbow0|\n",
      " Stack: |red0| \n",
      "Player 1: draw a card\n",
      "\n",
      "Round 22\n",
      " 1: |yellow4| |green8| |yellowskip| |green9|\n",
      "2: |blue3| |green0| |yellow+2| |blue9|\n",
      "3: |rainbow0|\n",
      " Stack: |red0| \n",
      "Player 2: draw a card\n",
      "\n",
      "Round 23\n",
      " 1: |yellow4| |green8| |yellowskip| |green9|\n",
      "2: |blue3| |green0| |yellow+2| |blue9| |red4|\n",
      "3: |rainbow0|\n",
      " Stack: |red0| \n",
      "Player wins!\n",
      "Game Over\n",
      "1: |yellow4| |green8| |yellowskip| |green9|\n",
      "2: |blue3| |green0| |yellow+2| |blue9| |red4|\n",
      "3: \n",
      " Stack: |red0|  \n",
      "\n"
     ]
    }
   ],
   "source": [
    "game = Game(players=[Player(i) for i in range(1, 4)], cards_per_player=5)\n",
    "game.setup()\n",
    "game.simulate(quiet=False, turns=100)\n"
   ]
  },
  {
   "cell_type": "code",
   "execution_count": 3,
   "outputs": [
    {
     "data": {
      "text/plain": "15"
     },
     "execution_count": 3,
     "metadata": {},
     "output_type": "execute_result"
    }
   ],
   "source": [
    "# max number of cards in hand\n",
    "\n",
    "len(game.gamestate_history)"
   ],
   "metadata": {
    "collapsed": false,
    "pycharm": {
     "name": "#%%\n"
    }
   }
  },
  {
   "cell_type": "code",
   "execution_count": 4,
   "metadata": {
    "pycharm": {
     "name": "#%%\n"
    }
   },
   "outputs": [
    {
     "data": {
      "text/plain": "<Figure size 640x480 with 1 Axes>"
     },
     "metadata": {},
     "output_type": "display_data"
    }
   ],
   "source": [
    "import matplotlib.pyplot as plt\n",
    "\n",
    "plt.plot([len(state.stack) for state in game.gamestate_history], label=\"stack\")\n",
    "plt.plot([len(state.draw_pile) for state in game.gamestate_history], label=\"draw pile\")\n",
    "plt.legend()\n",
    "plt.show()"
   ]
  },
  {
   "cell_type": "code",
   "execution_count": 5,
   "metadata": {
    "pycharm": {
     "name": "#%%\n"
    }
   },
   "outputs": [],
   "source": [
    "plt.show()\n",
    "\n"
   ]
  },
  {
   "cell_type": "code",
   "execution_count": 5,
   "metadata": {
    "pycharm": {
     "name": "#%%\n"
    }
   },
   "outputs": [],
   "source": [
    "\n"
   ]
  }
 ],
 "metadata": {
  "kernelspec": {
   "display_name": "Python 3",
   "language": "python",
   "name": "python3"
  },
  "language_info": {
   "codemirror_mode": {
    "name": "ipython",
    "version": 3
   },
   "file_extension": ".py",
   "mimetype": "text/x-python",
   "name": "python",
   "nbconvert_exporter": "python",
   "pygments_lexer": "ipython3",
   "version": "3.7.3"
  }
 },
 "nbformat": 4,
 "nbformat_minor": 1
}
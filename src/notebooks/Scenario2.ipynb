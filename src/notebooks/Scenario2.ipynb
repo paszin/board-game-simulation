{
 "cells": [
  {
   "cell_type": "code",
   "execution_count": 1,
   "metadata": {},
   "outputs": [],
   "source": [
    "import os\n",
    "\n",
    "import matplotlib.pyplot as plt\n",
    "\n",
    "import time\n",
    "import random\n",
    "random.seed(1993)\n",
    "try:\n",
    "    from ..GameSimulation import Card, CardStack, Player, GameState, Game\n",
    "    from ..GameSimulation.evaluation import rate_stack\n",
    "    from ..GameSimulation.playertypes import CommunicativePlayer\n",
    "except:\n",
    "    os.chdir(\"..\")\n",
    "    from GameSimulation import Card, CardStack, Player, GameState, Game\n",
    "    from GameSimulation.evaluation import rate_stack\n",
    "    from GameSimulation.playertypes import CommunicativePlayer\n"
   ]
  },
  {
   "cell_type": "code",
   "execution_count": 2,
   "metadata": {
    "pycharm": {
     "name": "#%%\n"
    }
   },
   "outputs": [
    {
     "name": "stdout",
     "output_type": "stream",
     "text": [
      "Round 0\n",
      " 1: |63| |59| |23| |21| |47| |85|\n",
      "2: |81| |6| |44| |53| |89| |41|\n",
      "3: |35| |16| |46| |75| |37| |58| \n",
      " [1UP: |1| , 1UP: |1| , 100DOWN: |100| , 100DOWN: |100| ] \n",
      "\n",
      "|85| is not accepted for 100DOWN: |85| \n",
      "Remaining Cards 97\n"
     ]
    }
   ],
   "source": [
    "players = [CommunicativePlayer(1), CommunicativePlayer(2), CommunicativePlayer(3)]\n",
    "game = Game.init_with_players(players, 6)\n",
    "game.setup()\n",
    "game.play()\n",
    "#game.score"
   ]
  },
  {
   "cell_type": "code",
   "execution_count": 11,
   "metadata": {
    "pycharm": {
     "name": "#%%\n"
    }
   },
   "outputs": [
    {
     "name": "stderr",
     "output_type": "stream",
     "text": [
      "warning: PYDEVD_USE_CYTHON environment variable is set to 'NO'. Frame evaluator will be also disabled because it requires Cython extensions to be enabled in order to operate correctly.\n"
     ]
    },
    {
     "name": "stdout",
     "output_type": "stream",
     "text": [
      "[|2|, |27|, |39|, |61|, |77|, |95|]\n",
      "|2| 1\n",
      "|27| 25\n",
      "|39| 12\n",
      "|61| 22\n",
      "|77| 16\n",
      "|95| 18\n"
     ]
    }
   ],
   "source": [
    "print(game.players[0].get_best_cards_per_stack(game.gamestate)[0])\n",
    "for option in game.players[0].get_best_cards_per_stack(game.gamestate)[0]:\n",
    "    print(option, option.distance)\n"
   ]
  },
  {
   "cell_type": "code",
   "execution_count": 4,
   "metadata": {
    "pycharm": {
     "name": "#%%\n"
    }
   },
   "outputs": [
    {
     "name": "stdout",
     "output_type": "stream",
     "text": [
      "Round 0\n",
      " 1: |17| |46| |12| |31| |39| |84|\n",
      "2: |92| |36| |93| |89| |6| |72|\n",
      "3: |94| |54| |80| |69| |9| |52| \n",
      " [1UP: |1| , 1UP: |1| , 100DOWN: |100| , 100DOWN: |100| ] \n",
      "\n",
      "Round 1 (Player 1)\n",
      "1: |46| |31| |39| |84| |68| |45|\n",
      "2: |92| |36| |93| |89| |6| |72|\n",
      "3: |94| |54| |80| |69| |9| |52|\n",
      "[1UP: |17| , 1UP: |1| , 100DOWN: |100| , 100DOWN: |100| ]\n",
      "Round 2 (Player 2)\n",
      "1: |46| |31| |39| |84| |68| |45|\n",
      "2: |36| |72| |13| |41| |71| |65|\n",
      "3: |94| |54| |80| |69| |9| |52|\n",
      "[1UP: |17| , 1UP: |6| , 100DOWN: |89| , 100DOWN: |100| ]\n",
      "Round 3 (Player 3)\n",
      "1: |46| |31| |39| |84| |68| |45|\n",
      "2: |36| |72| |13| |41| |71| |65|\n",
      "3: |54| |80| |69| |52| |49| |57|\n",
      "[1UP: |17| , 1UP: |9| , 100DOWN: |89| , 100DOWN: |94| ]\n",
      "Round 4 (Player 1)\n",
      "1: |46| |39| |68| |45| |60| |77|\n",
      "2: |36| |72| |13| |41| |71| |65|\n",
      "3: |54| |80| |69| |52| |49| |57|\n",
      "[1UP: |31| , 1UP: |9| , 100DOWN: |84| , 100DOWN: |94| ]\n",
      "Round 5 (Player 2)\n",
      "1: |46| |39| |68| |45| |60| |77|\n",
      "2: |72| |41| |71| |65| |53| |59|\n",
      "3: |54| |80| |69| |52| |49| |57|\n",
      "[1UP: |36| , 1UP: |13| , 100DOWN: |84| , 100DOWN: |94| ]\n",
      "Round 6 (Player 3)\n",
      "1: |46| |39| |68| |45| |60| |77|\n",
      "2: |72| |41| |71| |65| |53| |59|\n",
      "3: |54| |52| |49| |57| |70| |74|\n",
      "[1UP: |36| , 1UP: |13| , 100DOWN: |69| , 100DOWN: |94| ]\n",
      "Round 7 (Player 1)\n",
      "1: |46| |45| |60| |77| |22| |28|\n",
      "2: |72| |41| |71| |65| |53| |59|\n",
      "3: |54| |52| |49| |57| |70| |74|\n",
      "[1UP: |39| , 1UP: |13| , 100DOWN: |68| , 100DOWN: |94| ]\n",
      "Round 8 (Player 2)\n",
      "1: |46| |45| |60| |77| |22| |28|\n",
      "2: |72| |71| |53| |59| |81| |27|\n",
      "3: |54| |52| |49| |57| |70| |74|\n",
      "[1UP: |41| , 1UP: |13| , 100DOWN: |65| , 100DOWN: |94| ]\n",
      "Round 9 (Player 3)\n",
      "1: |46| |45| |60| |77| |22| |28|\n",
      "2: |72| |71| |53| |59| |81| |27|\n",
      "3: |70| |74| |91| |34| |51| |64|\n",
      "[1UP: |57| , 1UP: |13| , 100DOWN: |65| , 100DOWN: |94| ]\n",
      "Round 10 (Player 1)\n",
      "1: |46| |45| |77| |28| |4| |61|\n",
      "2: |72| |71| |53| |59| |81| |27|\n",
      "3: |70| |74| |91| |34| |51| |64|\n",
      "[1UP: |60| , 1UP: |22| , 100DOWN: |65| , 100DOWN: |94| ]\n"
     ]
    }
   ],
   "source": [
    "game = Game(players_count=3, cards_per_player=6)\n",
    "game.setup()\n",
    "game.play(quiet=False, turns=10)\n",
    "\n"
   ]
  },
  {
   "cell_type": "code",
   "execution_count": 5,
   "outputs": [
    {
     "name": "stdout",
     "output_type": "stream",
     "text": [
      "[1UP: |60| , 1UP: |22| , 100DOWN: |65| , 100DOWN: |94| ]\n"
     ]
    }
   ],
   "source": [
    "print(game.gamestate.card_stacks)"
   ],
   "metadata": {
    "collapsed": false,
    "pycharm": {
     "name": "#%%\n"
    }
   }
  },
  {
   "cell_type": "code",
   "execution_count": 6,
   "outputs": [
    {
     "name": "stdout",
     "output_type": "stream",
     "text": [
      "[|61|, |77|]\n",
      "|61| 1\n",
      "|77| 16\n"
     ]
    }
   ],
   "source": [
    "print(game.players[0].get_best_cards_per_stack(game.gamestate)[0])\n",
    "for option in game.players[0].get_best_cards_per_stack(game.gamestate)[0]:\n",
    "    print(option, option.distance)"
   ],
   "metadata": {
    "collapsed": false,
    "pycharm": {
     "name": "#%%\n"
    }
   }
  },
  {
   "cell_type": "code",
   "execution_count": 7,
   "outputs": [
    {
     "data": {
      "text/plain": "{0: ||50||, 1: ||12||, 2: ||75||, 3: ||104||}"
     },
     "execution_count": 7,
     "metadata": {},
     "output_type": "execute_result"
    }
   ],
   "source": [
    "game.gamestate.get_jump_card_options()"
   ],
   "metadata": {
    "collapsed": false,
    "pycharm": {
     "name": "#%%\n"
    }
   }
  },
  {
   "cell_type": "code",
   "execution_count": 8,
   "outputs": [
    {
     "data": {
      "text/plain": "[|46|, |45|, |77|, |28|, |4|, |61|]"
     },
     "execution_count": 8,
     "metadata": {},
     "output_type": "execute_result"
    }
   ],
   "source": [
    "game.players[0].hand\n",
    "\n",
    "\n"
   ],
   "metadata": {
    "collapsed": false,
    "pycharm": {
     "name": "#%%\n"
    }
   }
  }
 ],
 "metadata": {
  "kernelspec": {
   "display_name": "Python 3",
   "language": "python",
   "name": "python3"
  },
  "language_info": {
   "codemirror_mode": {
    "name": "ipython",
    "version": 3
   },
   "file_extension": ".py",
   "mimetype": "text/x-python",
   "name": "python",
   "nbconvert_exporter": "python",
   "pygments_lexer": "ipython3",
   "version": "3.7.3"
  }
 },
 "nbformat": 4,
 "nbformat_minor": 1
}
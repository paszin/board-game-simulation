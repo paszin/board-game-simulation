{
 "cells": [
  {
   "cell_type": "markdown",
   "metadata": {
    "collapsed": true,
    "pycharm": {
     "name": "#%% md\n"
    }
   },
   "source": [
    "# Analyze Uno\n",
    "\n",
    "## Question: How many rounds does it take to finish the game?\n",
    "\n",
    "\n"
   ]
  },
  {
   "cell_type": "code",
   "execution_count": 1,
   "metadata": {
    "pycharm": {
     "is_executing": true,
     "name": "#%%\n"
    }
   },
   "outputs": [],
   "source": [
    "## imports\n",
    "\n",
    "import numpy as np\n",
    "\n",
    "import time\n",
    "import json\n",
    "\n",
    "import seaborn as sns\n",
    "\n",
    "\n",
    "import random\n",
    "random.seed(1419265)\n",
    "\n",
    "import matplotlib.pyplot as plt\n"
   ]
  },
  {
   "cell_type": "code",
   "execution_count": 7,
   "metadata": {},
   "outputs": [
    {
     "ename": "KeyError",
     "evalue": "2",
     "output_type": "error",
     "traceback": [
      "\u001b[0;31m---------------------------------------------------------------------------\u001b[0m",
      "\u001b[0;31mKeyError\u001b[0m                                  Traceback (most recent call last)",
      "\u001b[0;32m<ipython-input-7-a71ffc78fe57>\u001b[0m in \u001b[0;36m<module>\u001b[0;34m\u001b[0m\n\u001b[1;32m      7\u001b[0m \u001b[0;32mfor\u001b[0m \u001b[0mnumber_of_players\u001b[0m \u001b[0;32min\u001b[0m \u001b[0mdata\u001b[0m\u001b[0;34m:\u001b[0m\u001b[0;34m\u001b[0m\u001b[0;34m\u001b[0m\u001b[0m\n\u001b[1;32m      8\u001b[0m     \u001b[0mdata2\u001b[0m\u001b[0;34m[\u001b[0m\u001b[0mint\u001b[0m\u001b[0;34m(\u001b[0m\u001b[0mnumber_of_players\u001b[0m\u001b[0;34m)\u001b[0m\u001b[0;34m]\u001b[0m \u001b[0;34m=\u001b[0m \u001b[0;34m{\u001b[0m\u001b[0;34m}\u001b[0m\u001b[0;34m\u001b[0m\u001b[0;34m\u001b[0m\u001b[0m\n\u001b[0;32m----> 9\u001b[0;31m     \u001b[0;32mfor\u001b[0m \u001b[0mnumber_of_cards\u001b[0m \u001b[0;32min\u001b[0m \u001b[0mdata\u001b[0m\u001b[0;34m[\u001b[0m\u001b[0mint\u001b[0m\u001b[0;34m(\u001b[0m\u001b[0mnumber_of_players\u001b[0m\u001b[0;34m)\u001b[0m\u001b[0;34m]\u001b[0m\u001b[0;34m:\u001b[0m\u001b[0;34m\u001b[0m\u001b[0;34m\u001b[0m\u001b[0m\n\u001b[0m\u001b[1;32m     10\u001b[0m         \u001b[0mdata2\u001b[0m\u001b[0;34m[\u001b[0m\u001b[0mint\u001b[0m\u001b[0;34m(\u001b[0m\u001b[0mnumber_of_players\u001b[0m\u001b[0;34m)\u001b[0m\u001b[0;34m]\u001b[0m\u001b[0;34m[\u001b[0m\u001b[0mint\u001b[0m\u001b[0;34m(\u001b[0m\u001b[0mnumber_of_cards\u001b[0m\u001b[0;34m)\u001b[0m\u001b[0;34m]\u001b[0m \u001b[0;34m=\u001b[0m \u001b[0mdata\u001b[0m\u001b[0;34m[\u001b[0m\u001b[0mint\u001b[0m\u001b[0;34m(\u001b[0m\u001b[0mnumber_of_players\u001b[0m\u001b[0;34m)\u001b[0m\u001b[0;34m]\u001b[0m\u001b[0;34m[\u001b[0m\u001b[0mnumber_of_cards\u001b[0m\u001b[0;34m]\u001b[0m\u001b[0;34m\u001b[0m\u001b[0;34m\u001b[0m\u001b[0m\n\u001b[1;32m     11\u001b[0m \u001b[0;34m\u001b[0m\u001b[0m\n",
      "\u001b[0;31mKeyError\u001b[0m: 2"
     ]
    }
   ],
   "source": [
    "# load the data that was generated in SimulateUno\n",
    "\n",
    "with open('rounds_per_n_o_cards_per_n_o_player.json') as json_file:\n",
    "    data = json.load(json_file)\n",
    "\n",
    "# data: {player: {cards: [series]}}"
   ]
  },
  {
   "cell_type": "markdown",
   "metadata": {},
   "source": [
    "# How many games end after 15-30 rounds? (with 7 hand cards)"
   ]
  },
  {
   "cell_type": "code",
   "execution_count": 8,
   "metadata": {
    "pycharm": {
     "name": "#%%\n"
    }
   },
   "outputs": [
    {
     "name": "stdout",
     "output_type": "stream",
     "text": [
      "2\n",
      "Mean: 23.0805\n",
      "Games with 15-30 rounds: 0.332\n",
      "Games with 0-30 rounds: 0.785\n",
      "\n",
      "3\n",
      "Mean: 15.080666666666666\n",
      "Games with 15-30 rounds: 0.329\n",
      "Games with 0-30 rounds: 0.949\n",
      "\n",
      "4\n",
      "Mean: 13.28125\n",
      "Games with 15-30 rounds: 0.27\n",
      "Games with 0-30 rounds: 0.972\n",
      "\n",
      "5\n",
      "Mean: 11.3122\n",
      "Games with 15-30 rounds: 0.2\n",
      "Games with 0-30 rounds: 0.992\n",
      "\n",
      "7\n",
      "Mean: 9.968571428571428\n",
      "Games with 15-30 rounds: 0.114\n",
      "Games with 0-30 rounds: 0.999\n",
      "\n",
      "10\n",
      "Mean: 8.921700000000001\n",
      "Games with 15-30 rounds: 0.05\n",
      "Games with 0-30 rounds: 1.0\n",
      "\n"
     ]
    }
   ],
   "source": [
    "for number_of_players in data:\n",
    "    series = data[number_of_players][\"7\"]\n",
    "    print(number_of_players)\n",
    "    print(\"Mean:\", np.mean(series))\n",
    "    print(\"Games with 15-30 rounds:\", round(len(list(filter(lambda x: 15 <= x <= 30, series)))/len(series), 3))\n",
    "    print(\"Games with 0-30 rounds:\", round(len(list(filter(lambda x: 0 <= x <= 30, series)))/len(series), 3))\n",
    "    print()\n",
    "    "
   ]
  },
  {
   "cell_type": "markdown",
   "metadata": {},
   "source": [
    "# How many games end after 15-30 rounds? (all combinations)"
   ]
  },
  {
   "cell_type": "code",
   "execution_count": null,
   "metadata": {
    "pycharm": {
     "name": "#%%\n"
    }
   },
   "outputs": [],
   "source": [
    "for number_of_players in data:\n",
    "    for number_of_cards in data[number_of_players]:\n",
    "        series = data[number_of_players][number_of_cards]\n",
    "        print(f\"{number_of_players} Players, {number_of_cards} cards\")\n",
    "        print(\"Maximum: \", max(series))\n",
    "        print(\"Minimum:\", min(series))\n",
    "        print(\"Mean:\", np.mean(series))\n",
    "        print(\"Games with 15-30 rounds:\", round(len(list(filter(lambda x: 15 <= x <= 30, series)))/len(series), 3))\n",
    "        print(\"Games with 10-30 rounds:\", round(len(list(filter(lambda x: 10 <= x <= 30, series)))/len(series), 3))\n",
    "\n",
    "        print()\n",
    "        "
   ]
  },
  {
   "cell_type": "markdown",
   "metadata": {
    "pycharm": {
     "is_executing": true,
     "name": "#%%\n"
    }
   },
   "source": [
    "# How many rounds does it take with n players and m cards per player?"
   ]
  },
  {
   "cell_type": "code",
   "execution_count": null,
   "metadata": {},
   "outputs": [],
   "source": [
    "\n",
    "sns.set(rc={'figure.figsize':(11.7,8.27)})\n",
    "\n",
    "\n",
    "plot_data = []\n",
    "labels = []\n",
    "for number_of_players in data:\n",
    "    for number_of_cards in data[number_of_players]:\n",
    "        plot_data.append(data[number_of_players][number_of_cards])\n",
    "        labels.append(f\"{number_of_players} Players, {number_of_cards} Cards\")\n",
    "\n",
    "g = sns.boxplot(\n",
    "    data=plot_data,\n",
    "    #palette=[sns.xkcd_rgb[\"pale red\"], sns.xkcd_rgb[\"medium green\"]],\n",
    "    #showmeans=True,\n",
    ")\n",
    "\n",
    "plt.setp(g.axes,yticks=[0,5, 10, 15, 20, 25, 30, 40, 50, 75, 100])\n",
    "plt.ylabel(\"Number of rounds\")\n",
    "#ax1 = g.axes[0]\n",
    "#ax1.axhline(15, ls='--')\n",
    "#ax1.axhline(30, ls='--')"
   ]
  },
  {
   "cell_type": "markdown",
   "metadata": {},
   "source": [
    "# Is starting an advantage? (which player position wins more often)"
   ]
  },
  {
   "cell_type": "code",
   "execution_count": null,
   "metadata": {},
   "outputs": [],
   "source": [
    "# determine winners\n",
    "\n",
    "winners_per_players = {}\n",
    "for number_of_players in data:\n",
    "    winners_per_players[number_of_players] = list(map(lambda x: int(round(x))%number_of_players, data[number_of_players][7]))\n"
   ]
  },
  {
   "cell_type": "code",
   "execution_count": null,
   "metadata": {},
   "outputs": [],
   "source": [
    "\n",
    "plt.hist(np.transpose(list(winners_per_players.values())),\n",
    "         bins=list(range(max(data.keys()))),\n",
    "         label=list(map(lambda x: f\"{x} Players\", winners_per_players.keys()))\n",
    "         )\n",
    "\n",
    "plt.legend()\n"
   ]
  },
  {
   "cell_type": "code",
   "execution_count": null,
   "metadata": {},
   "outputs": [],
   "source": []
  }
 ],
 "metadata": {
  "kernelspec": {
   "display_name": "Python 3",
   "language": "python",
   "name": "python3"
  },
  "language_info": {
   "codemirror_mode": {
    "name": "ipython",
    "version": 3
   },
   "file_extension": ".py",
   "mimetype": "text/x-python",
   "name": "python",
   "nbconvert_exporter": "python",
   "pygments_lexer": "ipython3",
   "version": "3.7.3"
  }
 },
 "nbformat": 4,
 "nbformat_minor": 1
}

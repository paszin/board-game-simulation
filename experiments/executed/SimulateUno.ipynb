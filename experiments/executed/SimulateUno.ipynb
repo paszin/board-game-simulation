{
 "cells": [
  {
   "cell_type": "markdown",
   "metadata": {
    "collapsed": true,
    "pycharm": {
     "name": "#%% md\n"
    }
   },
   "source": [
    "# Simulate UNO\n",
    "\n",
    "\n",
    "\n"
   ]
  },
  {
   "cell_type": "code",
   "execution_count": 1,
   "metadata": {
    "pycharm": {
     "name": "#%%\n"
    }
   },
   "outputs": [],
   "source": [
    "\n",
    "\n",
    "import sys\n",
    "sys.path.insert(0, \"/home/paszin/Documents/card-game-simulation/caga-sim/GameSimulation/\")\n",
    "\n",
    "\n",
    "from Games.Uno import Game, Player\n",
    "\n",
    "import json\n",
    "import time\n",
    "\n",
    "import random\n",
    "random.seed(1419265)\n",
    "\n",
    "import matplotlib.pyplot as plt\n"
   ]
  },
  {
   "cell_type": "code",
   "execution_count": 2,
   "metadata": {
    "pycharm": {
     "name": "#%%\n"
    }
   },
   "outputs": [
    {
     "name": "stdout",
     "output_type": "stream",
     "text": [
      "GAMESTATE\n",
      "Discard Pile:\t |blue5| (height: 1)\n",
      "Draw Pile: \t 71 cards\n",
      "players: [1: |red4| |green3| |red0| |rainbow0| |blue3| |red9| |red5|, 2: |red4| |yellow2| |blue1| |green4| |green2| |yellow2| |green8|, 3: |red6| |blue9| |blue4| |yellow4| |rainbow0| |red1| |yellow9|, 4: |green7| |yellow6| |yellow8| |blue2| |blue8| |blue+2| |green1|]\n",
      "Round 0\n",
      " 1: |red4| |green3| |red0| |rainbow0| |blue3| |red9| |red5|\n",
      "2: |red4| |yellow2| |blue1| |green4| |green2| |yellow2| |green8|\n",
      "3: |red6| |blue9| |blue4| |yellow4| |rainbow0| |red1| |yellow9|\n",
      "4: |green7| |yellow6| |yellow8| |blue2| |blue8| |blue+2| |green1|\n",
      " Discard Pile: |blue5| \n",
      "Player 1: play a card\n",
      "\n",
      "Round 1\n",
      " 1: |red4| |green3| |red0| |rainbow0| |red9| |red5|\n",
      "2: |red4| |yellow2| |blue1| |green4| |green2| |yellow2| |green8|\n",
      "3: |red6| |blue9| |blue4| |yellow4| |rainbow0| |red1| |yellow9|\n",
      "4: |green7| |yellow6| |yellow8| |blue2| |blue8| |blue+2| |green1|\n",
      " Discard Pile: |blue3| \n",
      "Player 2: play a card\n",
      "\n",
      "Round 2\n",
      " 1: |red4| |green3| |red0| |rainbow0| |red9| |red5|\n",
      "2: |red4| |yellow2| |green4| |green2| |yellow2| |green8|\n",
      "3: |red6| |blue9| |blue4| |yellow4| |rainbow0| |red1| |yellow9|\n",
      "4: |green7| |yellow6| |yellow8| |blue2| |blue8| |blue+2| |green1|\n",
      " Discard Pile: |blue1| \n",
      "Player 3: play a card\n",
      "\n",
      "Round 3\n",
      " 1: |red4| |green3| |red0| |rainbow0| |red9| |red5|\n",
      "2: |red4| |yellow2| |green4| |green2| |yellow2| |green8|\n",
      "3: |red6| |blue4| |yellow4| |rainbow0| |red1| |yellow9|\n",
      "4: |green7| |yellow6| |yellow8| |blue2| |blue8| |blue+2| |green1|\n",
      " Discard Pile: |blue9| \n",
      "Player 4: play a card\n",
      "\n",
      "Round 4\n",
      " 1: |red4| |green3| |red0| |rainbow0| |red9| |red5|\n",
      "2: |red4| |yellow2| |green4| |green2| |yellow2| |green8|\n",
      "3: |red6| |blue4| |yellow4| |rainbow0| |red1| |yellow9|\n",
      "4: |green7| |yellow6| |yellow8| |blue8| |blue+2| |green1|\n",
      " Discard Pile: |blue2| \n",
      "Player 1: play a card\n",
      "\n",
      "Round 5\n",
      " 1: |red4| |green3| |red0| |red9| |red5|\n",
      "2: |red4| |yellow2| |green4| |green2| |yellow2| |green8|\n",
      "3: |red6| |blue4| |yellow4| |rainbow0| |red1| |yellow9|\n",
      "4: |green7| |yellow6| |yellow8| |blue8| |blue+2| |green1|\n",
      " Discard Pile: |red0| \n",
      "Player 2: play a card\n",
      "\n",
      "Round 6\n",
      " 1: |red4| |green3| |red0| |red9| |red5|\n",
      "2: |yellow2| |green4| |green2| |yellow2| |green8|\n",
      "3: |red6| |blue4| |yellow4| |rainbow0| |red1| |yellow9|\n",
      "4: |green7| |yellow6| |yellow8| |blue8| |blue+2| |green1|\n",
      " Discard Pile: |red4| \n",
      "Player 3: play a card\n",
      "\n",
      "Round 7\n",
      " 1: |red4| |green3| |red0| |red9| |red5|\n",
      "2: |yellow2| |green4| |green2| |yellow2| |green8|\n",
      "3: |blue4| |yellow4| |rainbow0| |red1| |yellow9|\n",
      "4: |green7| |yellow6| |yellow8| |blue8| |blue+2| |green1|\n",
      " Discard Pile: |red6| \n",
      "Player 4: play a card\n",
      "\n",
      "Round 8\n",
      " 1: |red4| |green3| |red0| |red9| |red5|\n",
      "2: |yellow2| |green4| |green2| |yellow2| |green8|\n",
      "3: |blue4| |yellow4| |rainbow0| |red1| |yellow9|\n",
      "4: |green7| |yellow8| |blue8| |blue+2| |green1|\n",
      " Discard Pile: |yellow6| \n",
      "Player 1: draw a card\n",
      "\n",
      "Round 9\n",
      " 1: |red4| |green3| |red0| |red9| |red5| |red6|\n",
      "2: |yellow2| |green4| |green2| |yellow2| |green8|\n",
      "3: |blue4| |yellow4| |rainbow0| |red1| |yellow9|\n",
      "4: |green7| |yellow8| |blue8| |blue+2| |green1|\n",
      " Discard Pile: |yellow6| \n",
      "Player 2: play a card\n",
      "\n",
      "Round 10\n",
      " 1: |red4| |green3| |red0| |red9| |red5| |red6|\n",
      "2: |green4| |green2| |yellow2| |green8|\n",
      "3: |blue4| |yellow4| |rainbow0| |red1| |yellow9|\n",
      "4: |green7| |yellow8| |blue8| |blue+2| |green1|\n",
      " Discard Pile: |yellow2| \n",
      "Player 3: play a card\n",
      "\n",
      "Round 11\n",
      " 1: |red4| |green3| |red0| |red9| |red5| |red6|\n",
      "2: |green4| |green2| |yellow2| |green8|\n",
      "3: |blue4| |rainbow0| |red1| |yellow9|\n",
      "4: |green7| |yellow8| |blue8| |blue+2| |green1|\n",
      " Discard Pile: |yellow4| \n",
      "Player 4: play a card\n",
      "\n",
      "Round 12\n",
      " 1: |red4| |green3| |red0| |red9| |red5| |red6|\n",
      "2: |green4| |green2| |yellow2| |green8|\n",
      "3: |blue4| |rainbow0| |red1| |yellow9|\n",
      "4: |green7| |blue8| |blue+2| |green1|\n",
      " Discard Pile: |yellow8| \n",
      "Player 1: draw a card\n",
      "\n",
      "Round 13\n",
      " 1: |red4| |green3| |red0| |red9| |red5| |red6| |blue0|\n",
      "2: |green4| |green2| |yellow2| |green8|\n",
      "3: |blue4| |rainbow0| |red1| |yellow9|\n",
      "4: |green7| |blue8| |blue+2| |green1|\n",
      " Discard Pile: |yellow8| \n",
      "Player 2: play a card\n",
      "\n",
      "Round 14\n",
      " 1: |red4| |green3| |red0| |red9| |red5| |red6| |blue0|\n",
      "2: |green4| |green2| |green8|\n",
      "3: |blue4| |rainbow0| |red1| |yellow9|\n",
      "4: |green7| |blue8| |blue+2| |green1|\n",
      " Discard Pile: |yellow2| \n",
      "Player 3: play a card\n",
      "\n",
      "Round 15\n",
      " 1: |red4| |green3| |red0| |red9| |red5| |red6| |blue0|\n",
      "2: |green4| |green2| |green8|\n",
      "3: |blue4| |rainbow0| |red1|\n",
      "4: |green7| |blue8| |blue+2| |green1|\n",
      " Discard Pile: |yellow9| \n",
      "Player 4: draw a card\n",
      "\n",
      "Round 16\n",
      " 1: |red4| |green3| |red0| |red9| |red5| |red6| |blue0|\n",
      "2: |green4| |green2| |green8|\n",
      "3: |blue4| |rainbow0| |red1|\n",
      "4: |green7| |blue8| |blue+2| |green1| |yellow1|\n",
      " Discard Pile: |yellow9| \n",
      "Player 1: play a card\n",
      "\n",
      "Round 17\n",
      " 1: |red4| |green3| |red0| |red5| |red6| |blue0|\n",
      "2: |green4| |green2| |green8|\n",
      "3: |blue4| |rainbow0| |red1|\n",
      "4: |green7| |blue8| |blue+2| |green1| |yellow1|\n",
      " Discard Pile: |red9| \n",
      "Player 2: draw a card\n",
      "\n",
      "Round 18\n",
      " 1: |red4| |green3| |red0| |red5| |red6| |blue0|\n",
      "2: |green4| |green2| |green8| |rainbow0|\n",
      "3: |blue4| |rainbow0| |red1|\n",
      "4: |green7| |blue8| |blue+2| |green1| |yellow1|\n",
      " Discard Pile: |red9| \n",
      "Player 3: play a card\n",
      "\n",
      "Round 19\n",
      " 1: |red4| |green3| |red0| |red5| |red6| |blue0|\n",
      "2: |green4| |green2| |green8| |rainbow0|\n",
      "3: |blue4| |rainbow0|\n",
      "4: |green7| |blue8| |blue+2| |green1| |yellow1|\n",
      " Discard Pile: |red1| \n",
      "Player 4: play a card\n",
      "\n",
      "Round 20\n",
      " 1: |red4| |green3| |red0| |red5| |red6| |blue0|\n",
      "2: |green4| |green2| |green8| |rainbow0|\n",
      "3: |blue4| |rainbow0|\n",
      "4: |green7| |blue8| |blue+2| |yellow1|\n",
      " Discard Pile: |green1| \n",
      "Player 1: play a card\n",
      "\n",
      "Round 21\n",
      " 1: |red4| |red0| |red5| |red6| |blue0|\n",
      "2: |green4| |green2| |green8| |rainbow0|\n",
      "3: |blue4| |rainbow0|\n",
      "4: |green7| |blue8| |blue+2| |yellow1|\n",
      " Discard Pile: |green3| \n",
      "Player 2: play a card\n",
      "\n",
      "Round 22\n",
      " 1: |red4| |red0| |red5| |red6| |blue0|\n",
      "2: |green2| |green8| |rainbow0|\n",
      "3: |blue4| |rainbow0|\n",
      "4: |green7| |blue8| |blue+2| |yellow1|\n",
      " Discard Pile: |green4| \n",
      "Player 3: play a card\n",
      "\n",
      "Round 23\n",
      " 1: |red4| |red0| |red5| |red6| |blue0|\n",
      "2: |green2| |green8| |rainbow0|\n",
      "3: |rainbow0|\n",
      "4: |green7| |blue8| |blue+2| |yellow1|\n",
      " Discard Pile: |blue4| \n",
      "Player 4: play a card\n",
      "\n",
      "Round 24\n",
      " 1: |red4| |red0| |red5| |red6| |blue0|\n",
      "2: |green2| |green8| |rainbow0|\n",
      "3: |rainbow0|\n",
      "4: |green7| |blue+2| |yellow1|\n",
      " Discard Pile: |blue8| \n",
      "Player 1: play a card\n",
      "\n",
      "Round 25\n",
      " 1: |red4| |red0| |red5| |red6|\n",
      "2: |green2| |green8| |rainbow0|\n",
      "3: |rainbow0|\n",
      "4: |green7| |blue+2| |yellow1|\n",
      " Discard Pile: |blue0| \n",
      "Player 2: play a card\n",
      "\n",
      "Round 26\n",
      " 1: |red4| |red0| |red5| |red6|\n",
      "2: |green2| |green8|\n",
      "3: |rainbow0|\n",
      "4: |green7| |blue+2| |yellow1|\n",
      " Discard Pile: |green0| \n",
      "Player wins!\n",
      "Game Over\n",
      "1: |red4| |red0| |red5| |red6|\n",
      "2: |green2| |green8|\n",
      "3: \n",
      "4: |green7| |blue+2| |yellow1|\n",
      " Discard Pile: |red0|  \n",
      "\n"
     ]
    },
    {
     "data": {
      "text/plain": [
       "Text(0.5, 1.0, 'Number of cards in the draw pile')"
      ]
     },
     "execution_count": 2,
     "metadata": {},
     "output_type": "execute_result"
    },
    {
     "data": {
      "image/png": "[encoded data removed]",
      "text/plain": [
       "<Figure size 432x288 with 1 Axes>"
      ]
     },
     "metadata": {
      "needs_background": "light"
     },
     "output_type": "display_data"
    }
   ],
   "source": [
    "# run a simulation with 4 players and 7 cards each\n",
    "# All players are similar, they are implemented in the class Player\n",
    "game = Game(number_of_players=4, player_type=Player, cards_per_player=7)\n",
    "# setup distributes the card\n",
    "game.setup()\n",
    "\n",
    "# log the current gamestate\n",
    "game.gamestate.print_it_nice()\n",
    "\n",
    "# run the simulation, quiet=False means that the progress will be logged to console\n",
    "game.simulate(quiet=False)\n",
    "\n",
    "# how does the draw pile develops?\n",
    "draw_pile_evolution = [len(s.draw_pile) for s in game.gamestate_history]\n",
    "\n",
    "plt.plot(draw_pile_evolution)\n",
    "plt.title(\"Number of cards in the draw pile\")\n",
    "\n"
   ]
  },
  {
   "cell_type": "code",
   "execution_count": 3,
   "metadata": {
    "pycharm": {
     "name": "#%%\n"
    }
   },
   "outputs": [],
   "source": [
    "# number of iterations per game configuration\n",
    "number_of_iterations = 1000\n",
    "\n",
    "# simulate games with 2, 3, 4, 5, 7 and 10 players\n",
    "number_of_players_configurations = [2, 3, 4, 5, 7, 10]\n",
    "\n",
    "# simulate games with 3, 5, 7 and 9 cards per players\n",
    "cards_per_player_configurations = [3, 5, 7, 9]\n",
    "\n",
    "# same initial situation for all\n",
    "random_seed = 1892"
   ]
  },
  {
   "cell_type": "code",
   "execution_count": 4,
   "metadata": {
    "pycharm": {
     "name": "#%%\n"
    }
   },
   "outputs": [
    {
     "name": "stdout",
     "output_type": "stream",
     "text": [
      "Simulations took 29.0min 6.923285961151123s\n"
     ]
    }
   ],
   "source": [
    "# Execute the simulation, this might take same time\n",
    "\n",
    "start_time = time.time()\n",
    "\n",
    "data = {} # number_of_players: {cards_per_player: [...], ..}\n",
    "\n",
    "\n",
    "for number_of_players in number_of_players_configurations:\n",
    "    turns_per_cards = {}\n",
    "    for cards_per_player in cards_per_player_configurations:\n",
    "        turns_per_cards[cards_per_player] = []\n",
    "        random.seed(1892)\n",
    "        for i in range(number_of_iterations):\n",
    "            # if i % 1000 == 0: print(i)\n",
    "            game = Game(number_of_players=number_of_players, player_type=Player, cards_per_player=cards_per_player)\n",
    "            game.setup()\n",
    "            game.simulate(quiet=True, turns=number_of_players*100)\n",
    "            turns_per_cards[cards_per_player].append(game.turn/number_of_players)\n",
    "    data[number_of_players] = turns_per_cards\n",
    "\n",
    "\n",
    "end_time= time.time()\n",
    "\n",
    "print(f\"Simulations took {(end_time-start_time)//60}min {(end_time-start_time)%60}s\")\n"
   ]
  },
  {
   "cell_type": "code",
   "execution_count": 5,
   "metadata": {
    "pycharm": {
     "name": "#%%\n"
    }
   },
   "outputs": [],
   "source": [
    "with open(\"rounds_per_n_o_cards_per_n_o_player.json\", \"w\") as outfile:\n",
    "    json.dump(data, outfile)\n"
   ]
  }
 ],
 "metadata": {
  "kernelspec": {
   "display_name": "Python 3",
   "language": "python",
   "name": "python3"
  },
  "language_info": {
   "codemirror_mode": {
    "name": "ipython",
    "version": 3
   },
   "file_extension": ".py",
   "mimetype": "text/x-python",
   "name": "python",
   "nbconvert_exporter": "python",
   "pygments_lexer": "ipython3",
   "version": "3.7.3"
  }
 },
 "nbformat": 4,
 "nbformat_minor": 1
}
